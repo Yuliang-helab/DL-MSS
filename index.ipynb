{
 "cells": [
  {
   "cell_type": "markdown",
   "metadata": {},
   "source": [
    "## Suplementary code for the DL_MSS"
   ]
  },
  {
   "cell_type": "markdown",
   "metadata": {},
   "source": [
    "Jupyter notebooks:\n",
    "* [Multiple State Generator](./notebooks/MA_MultipleStateGenerator.ipynb)\n",
    "* [Data processing script](./notebooks/MA_DataProcessing_UserFriendly_NEW.ipynb)\n",
    "\n",
    "Jupyter notebooks in HTML format for browsin in the browser, showing the code and the results:\n",
    "* [Multiple State Generator](./notebooks_html/MA_MultipleStateGenerator.html)\n",
    "* [Data processing script](./notebooks_html/MA_DataProcessing_UserFriendly_NEW.html)\n",
    "\n",
    "Data files:\n",
    "* [Trained model](./notebooks/Model_Bidirectional_NoShape_3state_Tr10000)\n",
    "* [Model Parameters???](./notebooks/Parameters_Model_Bidirectional_NoShape_3state_Tr10000.txt)\n",
    "\n",
    "Required python packages:\n",
    "* numpy\n",
    "* scipy\n",
    "* matplotlib\n",
    "* seaborn\n",
    "* ipywidgets\n",
    "\n",
    "Installation of 'ipywidgets' and enabling of 'Initialization cells':\n",
    "\n",
    "```python\n",
    "pip install ipywidgets\n",
    "jupyter nbextension enable --py widgetsnbextension\n",
    "\n",
    "pip install jupyter_nbextensions_configurator jupyter_contrib_nbextensions\n",
    "jupyter contrib nbextension install --user\n",
    "jupyter nbextensions_configurator enable --user\n",
    "```\n",
    "\n",
    "\n",
    "\n",
    "In the Jupiter notebook, in the last tab “Nbextensions” the following extensions should be activated:\n",
    "'Initialization cells':\n",
    "\n",
    "![Activating Initialization Cells](./notebooks_html/initcells.png)\n",
    "\n"
   ]
  },
  {
   "cell_type": "code",
   "execution_count": null,
   "metadata": {},
   "outputs": [],
   "source": []
  }
 ],
 "metadata": {
  "kernelspec": {
   "display_name": "Python 3",
   "language": "python",
   "name": "python3"
  },
  "language_info": {
   "codemirror_mode": {
    "name": "ipython",
    "version": 3
   },
   "file_extension": ".py",
   "mimetype": "text/x-python",
   "name": "python",
   "nbconvert_exporter": "python",
   "pygments_lexer": "ipython3",
   "version": "3.7.3"
  }
 },
 "nbformat": 4,
 "nbformat_minor": 2
}
